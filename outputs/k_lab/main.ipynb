{
 "cells": [
  {
   "cell_type": "code",
   "execution_count": 11,
   "outputs": [],
   "source": [
    "import pandas as pd\n",
    "import numpy as np\n",
    "\n",
    "from datetime import datetime\n",
    "from models.MainModel import MainModel\n",
    "from matplotlib import pyplot as plt\n",
    "\n",
    "import torch\n",
    "import torch.nn as nn\n",
    "import torch.optim as optim"
   ],
   "metadata": {
    "collapsed": false,
    "ExecuteTime": {
     "end_time": "2024-11-11T08:05:25.654808Z",
     "start_time": "2024-11-11T08:05:25.644327700Z"
    }
   }
  },
  {
   "cell_type": "code",
   "execution_count": 12,
   "outputs": [],
   "source": [
    "def setSeed(seed):\n",
    "    if torch.cuda.is_available():\n",
    "        torch.cuda.manual_seed_all(seed)\n",
    "    else:\n",
    "        torch.manual_seed(seed)\n",
    "\n",
    "\n",
    "def getVocabulary(filePath):\n",
    "    vocabulary = {}\n",
    "    with open(filePath, 'r') as file:\n",
    "        for line in file.readlines():\n",
    "            line = line.replace('\\n', '')\n",
    "            [token, tokenID] = line.split(': ')\n",
    "            tokenID = int(tokenID)\n",
    "\n",
    "            vocabulary[token] = tokenID\n",
    "    return len(vocabulary)\n",
    "\n",
    "\n",
    "# 读取标签数据\n",
    "def getLabels(filePath, d):\n",
    "    nurseIndexes = []\n",
    "    patientIndexes = []\n",
    "    scoreList = []\n",
    "    with open(filePath, 'r') as f:\n",
    "        for line in f.readlines():\n",
    "            line = line.replace('\\n', '')\n",
    "            [nurse2Patient, score] = line.split(': ')\n",
    "\n",
    "            [nurse, patient] = nurse2Patient.split('-')\n",
    "            score = float(score)\n",
    "\n",
    "            nurseIndex = int(nurse)\n",
    "            patientIndex = int(patient)\n",
    "\n",
    "            nurseIndexes.append(nurseIndex)\n",
    "            patientIndexes.append(patientIndex)\n",
    "            scoreList.append(score)\n",
    "\n",
    "    indexData = torch.tensor(np.row_stack((nurseIndexes, patientIndexes)), dtype=torch.long, device=d)\n",
    "    scoreData = torch.tensor(np.array(scoreList), dtype=torch.float, device=d)\n",
    "\n",
    "    return indexData, scoreData\n",
    "\n",
    "\n",
    "def getEdges(filePath, d):\n",
    "    srcIds, tarIds = [], []\n",
    "    with open(filePath, 'r') as f:\n",
    "        for line in f.readlines()[:-1]:\n",
    "            line = line.replace('\\n', '')\n",
    "            [srcNode, tarNodes] = line.split(': ')\n",
    "\n",
    "            srcNode = int(srcNode)\n",
    "            tarNodes = map(int, tarNodes.split(', '))\n",
    "\n",
    "            for tarNode in tarNodes:\n",
    "                srcIds.append(srcNode)\n",
    "                tarIds.append(tarNode)\n",
    "\n",
    "    return torch.tensor(np.row_stack((srcIds, tarIds)), dtype=torch.long, device=d)\n",
    "\n",
    "\n",
    "def lossFunc(nurseVector, patientVector, scoreVector):\n",
    "    inner_product = (nurseVector * patientVector).sum(dim=-1, keepdims=True)\n",
    "    log_sigmoid = nn.LogSigmoid()\n",
    "    return -torch.mean(scoreVector * log_sigmoid(inner_product))"
   ],
   "metadata": {
    "collapsed": false,
    "ExecuteTime": {
     "end_time": "2024-11-11T08:05:25.678387200Z",
     "start_time": "2024-11-11T08:05:25.662827200Z"
    }
   }
  },
  {
   "cell_type": "code",
   "execution_count": 13,
   "outputs": [],
   "source": [
    "device = torch.device('cuda' if torch.cuda.is_available() else 'cpu')\n",
    "time = datetime.now().strftime('%Y-%m-%d_%H-%M-%S')"
   ],
   "metadata": {
    "collapsed": false,
    "ExecuteTime": {
     "end_time": "2024-11-11T08:05:25.684309200Z",
     "start_time": "2024-11-11T08:05:25.667197400Z"
    }
   }
  },
  {
   "cell_type": "code",
   "execution_count": 14,
   "outputs": [],
   "source": [
    "nurseData_train = pd.read_csv('../../data/inductive/train/nurseData.csv')\n",
    "patientData_train = pd.read_csv('../../data/inductive/train/patientData.csv')\n",
    "\n",
    "nurseData_val = pd.read_csv('../../data/inductive/val/nurseData.csv')\n",
    "patientData_val = pd.read_csv('../../data/inductive/val/patientData.csv')"
   ],
   "metadata": {
    "collapsed": false,
    "ExecuteTime": {
     "end_time": "2024-11-11T08:05:25.698890400Z",
     "start_time": "2024-11-11T08:05:25.684309200Z"
    }
   }
  },
  {
   "cell_type": "code",
   "execution_count": 15,
   "outputs": [],
   "source": [
    "tokenCount = getVocabulary('../../data/token2Id.txt')"
   ],
   "metadata": {
    "collapsed": false,
    "ExecuteTime": {
     "end_time": "2024-11-11T08:05:25.719386600Z",
     "start_time": "2024-11-11T08:05:25.698890400Z"
    }
   }
  },
  {
   "cell_type": "code",
   "execution_count": 16,
   "outputs": [],
   "source": [
    "# 标签数据\n",
    "indexData_train, scoreData_train = getLabels('../../data/inductive/train/labels.txt', device)\n",
    "indexData_val, scoreData_val = getLabels('../../data/inductive/val/labels.txt', device)"
   ],
   "metadata": {
    "collapsed": false,
    "ExecuteTime": {
     "end_time": "2024-11-11T08:05:25.809210Z",
     "start_time": "2024-11-11T08:05:25.718203500Z"
    }
   }
  },
  {
   "cell_type": "code",
   "execution_count": 17,
   "outputs": [],
   "source": [
    "\"\"\"\n",
    "离散型、连续型特征分类\n",
    "\"\"\"\n",
    "columnToken_common = ['性别', '省', '民族', '宗教信仰', '学历', '体型']\n",
    "columnToken_nurse = ['常驻医院', '主要负责病区', '其他负责病区']\n",
    "columnToken_patient = ['过敏史', '是否残疾', '暴露史', '是否吸烟', '是否饮酒', '常饮酒类', '所属医院', '所在病区']\n",
    "\n",
    "columnNumber_common = ['年龄', '身高', '体重', 'BMI指数']\n",
    "columnNumber_nurse = ['普通话程度', '方言程度', '在岗时间', '擅长科室种类', '接单数', '活跃度', '评分']\n",
    "columnNumber_patient = ['烟龄', '平均每日吸烟次数', '平均每日饮酒次数', '锻炼频率', '刷牙频率', '重症等级']\n",
    "\n",
    "nurseColumns = columnNumber_common + columnNumber_nurse + columnToken_common + columnToken_nurse\n",
    "patientColumns = columnNumber_common + columnNumber_patient + columnToken_common + columnToken_patient\n",
    "\n",
    "nurseData_token_train = torch.tensor(nurseData_train[columnToken_common + columnToken_nurse].values, dtype=torch.long, device=device)\n",
    "nurseData_number_train = torch.tensor(nurseData_train[columnNumber_common + columnNumber_nurse].values, dtype=torch.float, device=device)\n",
    "\n",
    "patientData_token_train = torch.tensor(patientData_train[columnToken_common + columnToken_patient].values, dtype=torch.long, device=device)\n",
    "patientData_number_train = torch.tensor(patientData_train[columnNumber_common + columnNumber_patient].values, dtype=torch.float, device=device)\n",
    "\n",
    "nurseData_token_val = torch.tensor(nurseData_val[columnToken_common + columnToken_nurse].values, dtype=torch.long, device=device)\n",
    "nurseData_number_val = torch.tensor(nurseData_val[columnNumber_common + columnNumber_nurse].values, dtype=torch.float, device=device)\n",
    "\n",
    "patientData_token_val = torch.tensor(patientData_val[columnToken_common + columnToken_patient].values, dtype=torch.long, device=device)\n",
    "patientData_number_val = torch.tensor(patientData_val[columnNumber_common + columnNumber_patient].values, dtype=torch.float, device=device)"
   ],
   "metadata": {
    "collapsed": false,
    "ExecuteTime": {
     "end_time": "2024-11-11T08:05:25.827595200Z",
     "start_time": "2024-11-11T08:05:25.809210Z"
    }
   }
  },
  {
   "cell_type": "code",
   "execution_count": 18,
   "outputs": [],
   "source": [
    "# 获取边数据\n",
    "edgeDatas_train, edgeDatas_val = [], []\n",
    "k = 0.9\n",
    "while k >= 0.5:\n",
    "    edgeDatas_nurse_train = getEdges(f'../../data/inductive/train/edge_nurse_{round(k, 1)}.txt', device)\n",
    "    edgeDatas_patient_train = getEdges(f'../../data/inductive/train/edge_patient_{round(k, 1)}.txt', device)\n",
    "\n",
    "    edgeDatas_train.append((edgeDatas_nurse_train, edgeDatas_patient_train))\n",
    "\n",
    "    edgeDatas_nurse_val = getEdges(f'../../data/inductive/val/edge_nurse_{round(k, 1)}.txt', device)\n",
    "    edgeDatas_patient_val = getEdges(f'../../data/inductive/val/edge_patient_{round(k, 1)}.txt', device)\n",
    "\n",
    "    edgeDatas_val.append((edgeDatas_nurse_val, edgeDatas_patient_val))\n",
    "\n",
    "    k -= 0.1"
   ],
   "metadata": {
    "collapsed": false,
    "ExecuteTime": {
     "end_time": "2024-11-11T08:05:26.141004300Z",
     "start_time": "2024-11-11T08:05:25.828925400Z"
    }
   }
  },
  {
   "cell_type": "code",
   "execution_count": 19,
   "outputs": [],
   "source": [
    "nurse_HAT_config = {\n",
    "    'num_HAT_layers': 3,\n",
    "    'in_features': [8, 16, 16],\n",
    "    'out_features': [16, 16, 32],\n",
    "    'num_softmax_layers': [5, 3, 1],\n",
    "    'all_dims': [len(nurseColumns), 5, 3],\n",
    "    'softmax_dims': [\n",
    "        [[0, 1, 2, 3, 11, 12, 13, 14, 15, 16], [0, 3, 16], [4, 5], [6, 7, 8, 9, 10, 15], [17, 18, 19]],\n",
    "        [[0], [1, 2, 3], [4]],\n",
    "        [[0, 1, 2]]\n",
    "    ]\n",
    "}\n",
    "\n",
    "patient_HAT_config = {\n",
    "    'num_HAT_layers': 3,\n",
    "    'in_features': [8, 16, 16],\n",
    "    'out_features': [16, 16, 32],\n",
    "    'num_softmax_layers': [5, 3, 1],\n",
    "    'all_dims': [len(patientColumns), 5, 3],\n",
    "    'softmax_dims': [\n",
    "        [[0, 1, 2, 3, 10, 11, 12, 13, 14, 15], [0, 3, 9, 15, 17], [16, 18], [4, 5, 6, 7, 8, 19, 20, 21], [22, 23]],\n",
    "        [[0], [1, 2, 3], [4]],\n",
    "        [[0, 1, 2]]\n",
    "    ]\n",
    "}\n",
    "\n",
    "GAT_config = {\n",
    "    'num_of_layers': 2,\n",
    "    'num_heads_per_layer': [8, 1],\n",
    "    'num_features_per_layer': [96, 8, 8],\n",
    "    'dropout_prob': 0.6,\n",
    "    'bias': True,\n",
    "    'add_skip_connection': False\n",
    "}"
   ],
   "metadata": {
    "collapsed": false,
    "ExecuteTime": {
     "end_time": "2024-11-11T08:05:26.142065800Z",
     "start_time": "2024-11-11T08:05:26.141004300Z"
    }
   }
  },
  {
   "cell_type": "code",
   "execution_count": 20,
   "outputs": [
    {
     "name": "stdout",
     "output_type": "stream",
     "text": [
      "Epoch [100/10000], Train Loss: 21.1045, Val Loss: 47.5383, Best Val Loss: 47.53832519054413\n",
      "Epoch [200/10000], Train Loss: 7.8530, Val Loss: 22.9585, Best Val Loss: 22.958548739552498\n",
      "Epoch [300/10000], Train Loss: 3.2822, Val Loss: 11.6807, Best Val Loss: 11.680733412504196\n",
      "Epoch [400/10000], Train Loss: 2.0629, Val Loss: 6.6162, Best Val Loss: 6.61621056497097\n",
      "Epoch [500/10000], Train Loss: 1.5306, Val Loss: 4.1265, Best Val Loss: 4.126470535993576\n",
      "Epoch [600/10000], Train Loss: 1.3218, Val Loss: 2.8320, Best Val Loss: 2.8319871053099632\n",
      "Epoch [700/10000], Train Loss: 0.8938, Val Loss: 2.1175, Best Val Loss: 2.1174598950892687\n",
      "Epoch [800/10000], Train Loss: 0.7890, Val Loss: 1.7095, Best Val Loss: 1.7095096409320831\n",
      "Epoch [900/10000], Train Loss: 0.7083, Val Loss: 1.4367, Best Val Loss: 1.4366660034283996\n",
      "Epoch [1000/10000], Train Loss: 0.5998, Val Loss: 1.2707, Best Val Loss: 1.270717242732644\n",
      "Epoch [1100/10000], Train Loss: 0.5353, Val Loss: 1.1500, Best Val Loss: 1.149959396570921\n",
      "Epoch [1200/10000], Train Loss: 0.6000, Val Loss: 1.0582, Best Val Loss: 1.0582340182736516\n",
      "Epoch [1300/10000], Train Loss: 0.5553, Val Loss: 1.0047, Best Val Loss: 1.0047100950032473\n",
      "Epoch [1400/10000], Train Loss: 0.5076, Val Loss: 0.9570, Best Val Loss: 0.9570412803441286\n",
      "Epoch [1500/10000], Train Loss: 0.5468, Val Loss: 0.9214, Best Val Loss: 0.9214106830768287\n",
      "Epoch [1600/10000], Train Loss: 0.4588, Val Loss: 0.9021, Best Val Loss: 0.9021346922963858\n",
      "Epoch [1700/10000], Train Loss: 0.4773, Val Loss: 0.8758, Best Val Loss: 0.8758429903537035\n",
      "Epoch [1800/10000], Train Loss: 0.4402, Val Loss: 0.8632, Best Val Loss: 0.8632256067357957\n",
      "Epoch [1900/10000], Train Loss: 0.4835, Val Loss: 0.8514, Best Val Loss: 0.8513701613992453\n",
      "Epoch [2000/10000], Train Loss: 0.5095, Val Loss: 0.8430, Best Val Loss: 0.8427408174611628\n",
      "Epoch [2100/10000], Train Loss: 0.4472, Val Loss: 0.8284, Best Val Loss: 0.8278823806904256\n",
      "Epoch [2200/10000], Train Loss: 0.4596, Val Loss: 0.8237, Best Val Loss: 0.8233556873165071\n",
      "Epoch [2300/10000], Train Loss: 0.4576, Val Loss: 0.8188, Best Val Loss: 0.8188282954506576\n",
      "Epoch [2400/10000], Train Loss: 0.5151, Val Loss: 0.8199, Best Val Loss: 0.817894353531301\n",
      "Epoch [2500/10000], Train Loss: 0.4240, Val Loss: 0.8160, Best Val Loss: 0.8145508472807705\n",
      "Epoch [2600/10000], Train Loss: 0.4777, Val Loss: 0.8064, Best Val Loss: 0.8064091671258211\n",
      "Epoch [2700/10000], Train Loss: 0.4945, Val Loss: 0.8075, Best Val Loss: 0.8057908853515983\n",
      "Epoch [2800/10000], Train Loss: 0.4773, Val Loss: 0.8117, Best Val Loss: 0.8050088072195649\n",
      "Epoch [2900/10000], Train Loss: 0.4644, Val Loss: 0.8116, Best Val Loss: 0.8050088072195649\n",
      "Epoch [3000/10000], Train Loss: 0.4563, Val Loss: 0.8068, Best Val Loss: 0.8050088072195649\n",
      "Epoch [3100/10000], Train Loss: 0.4884, Val Loss: 0.8066, Best Val Loss: 0.8038708474487066\n",
      "Epoch [3200/10000], Train Loss: 0.4579, Val Loss: 0.8064, Best Val Loss: 0.795686268247664\n",
      "Epoch [3300/10000], Train Loss: 0.4778, Val Loss: 0.8041, Best Val Loss: 0.795686268247664\n",
      "Epoch [3400/10000], Train Loss: 0.5197, Val Loss: 0.8017, Best Val Loss: 0.795686268247664\n",
      "Epoch [3500/10000], Train Loss: 0.4633, Val Loss: 0.8021, Best Val Loss: 0.795686268247664\n",
      "Epoch [3600/10000], Train Loss: 0.4591, Val Loss: 0.8007, Best Val Loss: 0.795686268247664\n",
      "Epoch [3700/10000], Train Loss: 0.4739, Val Loss: 0.8057, Best Val Loss: 0.795686268247664\n",
      "Epoch [3800/10000], Train Loss: 0.4615, Val Loss: 0.8058, Best Val Loss: 0.795686268247664\n",
      "Epoch [3900/10000], Train Loss: 0.4215, Val Loss: 0.8011, Best Val Loss: 0.795686268247664\n",
      "Epoch [4000/10000], Train Loss: 0.4568, Val Loss: 0.8070, Best Val Loss: 0.7929059793241322\n",
      "Epoch [4100/10000], Train Loss: 0.4546, Val Loss: 0.8105, Best Val Loss: 0.7929059793241322\n",
      "Epoch [4200/10000], Train Loss: 0.4437, Val Loss: 0.8035, Best Val Loss: 0.7929059793241322\n",
      "Epoch [4300/10000], Train Loss: 0.4522, Val Loss: 0.8069, Best Val Loss: 0.7929059793241322\n",
      "Epoch [4400/10000], Train Loss: 0.4754, Val Loss: 0.8101, Best Val Loss: 0.7929059793241322\n",
      "Epoch [4500/10000], Train Loss: 0.4399, Val Loss: 0.8120, Best Val Loss: 0.7929059793241322\n",
      "Epoch [4600/10000], Train Loss: 0.4646, Val Loss: 0.8097, Best Val Loss: 0.7929059793241322\n",
      "Epoch [4700/10000], Train Loss: 0.4587, Val Loss: 0.8160, Best Val Loss: 0.7929059793241322\n",
      "Epoch [4800/10000], Train Loss: 0.4612, Val Loss: 0.8162, Best Val Loss: 0.7929059793241322\n",
      "Epoch [4900/10000], Train Loss: 0.5132, Val Loss: 0.8075, Best Val Loss: 0.7929059793241322\n",
      "\n",
      "Epoch [100/10000], Train Loss: 3.1749, Val Loss: 15.1063, Best Val Loss: 15.106280334293842\n",
      "Epoch [200/10000], Train Loss: 1.3415, Val Loss: 6.7491, Best Val Loss: 6.749131716787815\n",
      "Epoch [300/10000], Train Loss: 1.0693, Val Loss: 4.4692, Best Val Loss: 4.469158593565226\n",
      "Epoch [400/10000], Train Loss: 1.0450, Val Loss: 3.2446, Best Val Loss: 3.2445755787193775\n",
      "Epoch [500/10000], Train Loss: 0.6370, Val Loss: 2.6867, Best Val Loss: 2.686655381694436\n",
      "Epoch [600/10000], Train Loss: 0.7470, Val Loss: 2.1514, Best Val Loss: 2.1513744723051786\n",
      "Epoch [700/10000], Train Loss: 0.5561, Val Loss: 1.8559, Best Val Loss: 1.8558610463514924\n",
      "Epoch [800/10000], Train Loss: 0.4478, Val Loss: 1.6271, Best Val Loss: 1.6271100612357259\n",
      "Epoch [900/10000], Train Loss: 0.4253, Val Loss: 1.4632, Best Val Loss: 1.4632364036515355\n",
      "Epoch [1000/10000], Train Loss: 0.5276, Val Loss: 1.3553, Best Val Loss: 1.3553283642977476\n",
      "Epoch [1100/10000], Train Loss: 0.3020, Val Loss: 1.2582, Best Val Loss: 1.2572710402309895\n",
      "Epoch [1200/10000], Train Loss: 0.3120, Val Loss: 1.2179, Best Val Loss: 1.2179389595985413\n",
      "Epoch [1300/10000], Train Loss: 0.4008, Val Loss: 1.2014, Best Val Loss: 1.1860202066600323\n",
      "Epoch [1400/10000], Train Loss: 0.3743, Val Loss: 1.1723, Best Val Loss: 1.1674085399135947\n",
      "Epoch [1500/10000], Train Loss: 0.3872, Val Loss: 1.1589, Best Val Loss: 1.1400989023968577\n",
      "Epoch [1600/10000], Train Loss: 0.2722, Val Loss: 1.1474, Best Val Loss: 1.1397151974961162\n",
      "Epoch [1700/10000], Train Loss: 0.3584, Val Loss: 1.1488, Best Val Loss: 1.1230451054871082\n",
      "Epoch [1800/10000], Train Loss: 0.2695, Val Loss: 1.1499, Best Val Loss: 1.1230451054871082\n",
      "Epoch [1900/10000], Train Loss: 0.2830, Val Loss: 1.1388, Best Val Loss: 1.1230451054871082\n",
      "Epoch [2000/10000], Train Loss: 0.3317, Val Loss: 1.1642, Best Val Loss: 1.1230451054871082\n",
      "Epoch [2100/10000], Train Loss: 0.3366, Val Loss: 1.1682, Best Val Loss: 1.1230451054871082\n",
      "Epoch [2200/10000], Train Loss: 0.3684, Val Loss: 1.1456, Best Val Loss: 1.1230451054871082\n",
      "Epoch [2300/10000], Train Loss: 0.3373, Val Loss: 1.2237, Best Val Loss: 1.115292077884078\n",
      "Epoch [2400/10000], Train Loss: 0.3835, Val Loss: 1.2046, Best Val Loss: 1.115292077884078\n",
      "Epoch [2500/10000], Train Loss: 0.3675, Val Loss: 1.1927, Best Val Loss: 1.115292077884078\n",
      "Epoch [2600/10000], Train Loss: 0.4254, Val Loss: 1.2472, Best Val Loss: 1.115292077884078\n",
      "Epoch [2700/10000], Train Loss: 0.3307, Val Loss: 1.2501, Best Val Loss: 1.115292077884078\n",
      "Epoch [2800/10000], Train Loss: 0.3259, Val Loss: 1.2574, Best Val Loss: 1.115292077884078\n",
      "Epoch [2900/10000], Train Loss: 0.3070, Val Loss: 1.2881, Best Val Loss: 1.115292077884078\n",
      "Epoch [3000/10000], Train Loss: 0.2892, Val Loss: 1.3129, Best Val Loss: 1.115292077884078\n",
      "Epoch [3100/10000], Train Loss: 0.3154, Val Loss: 1.3387, Best Val Loss: 1.115292077884078\n",
      "Epoch [3200/10000], Train Loss: 0.2966, Val Loss: 1.3625, Best Val Loss: 1.115292077884078\n",
      "\n",
      "Epoch [100/10000], Train Loss: 0.3090, Val Loss: 2.6563, Best Val Loss: 2.330136252567172\n",
      "Epoch [200/10000], Train Loss: 0.0675, Val Loss: 5.3589, Best Val Loss: 2.330136252567172\n",
      "Epoch [300/10000], Train Loss: 0.8541, Val Loss: 7.6044, Best Val Loss: 2.330136252567172\n",
      "Epoch [400/10000], Train Loss: 0.2500, Val Loss: 7.9397, Best Val Loss: 2.330136252567172\n",
      "Epoch [500/10000], Train Loss: 0.4262, Val Loss: 5.9180, Best Val Loss: 2.330136252567172\n",
      "Epoch [600/10000], Train Loss: 0.3416, Val Loss: 6.0422, Best Val Loss: 2.330136252567172\n",
      "Epoch [700/10000], Train Loss: 0.4751, Val Loss: 5.5492, Best Val Loss: 2.330136252567172\n",
      "Epoch [800/10000], Train Loss: 0.3557, Val Loss: 5.6320, Best Val Loss: 2.330136252567172\n",
      "Epoch [900/10000], Train Loss: 0.0984, Val Loss: 5.9308, Best Val Loss: 2.330136252567172\n",
      "Epoch [1000/10000], Train Loss: 0.3825, Val Loss: 6.5313, Best Val Loss: 2.330136252567172\n",
      "\n",
      "Epoch [100/10000], Train Loss: 0.0076, Val Loss: 5.1892, Best Val Loss: 0.09292158938478678\n",
      "Epoch [200/10000], Train Loss: 0.6859, Val Loss: 8.8179, Best Val Loss: 0.09292158938478678\n",
      "Epoch [300/10000], Train Loss: 0.6199, Val Loss: 9.2358, Best Val Loss: 0.09292158938478678\n",
      "Epoch [400/10000], Train Loss: 0.1810, Val Loss: 10.7542, Best Val Loss: 0.09292158938478678\n",
      "Epoch [500/10000], Train Loss: 0.1124, Val Loss: 14.4820, Best Val Loss: 0.09292158938478678\n",
      "Epoch [600/10000], Train Loss: 0.1158, Val Loss: 17.1115, Best Val Loss: 0.09292158938478678\n",
      "Epoch [700/10000], Train Loss: 0.0741, Val Loss: 20.2222, Best Val Loss: 0.09292158938478678\n",
      "Epoch [800/10000], Train Loss: 0.2267, Val Loss: 22.7826, Best Val Loss: 0.09292158938478678\n",
      "Epoch [900/10000], Train Loss: 0.0768, Val Loss: 23.4114, Best Val Loss: 0.09292158938478678\n",
      "Epoch [1000/10000], Train Loss: 0.0578, Val Loss: 24.2024, Best Val Loss: 0.09292158938478678\n",
      "\n",
      "Epoch [100/10000], Train Loss: 0.0882, Val Loss: 13.4256, Best Val Loss: 0.7751369848847389\n",
      "Epoch [200/10000], Train Loss: 0.1996, Val Loss: 16.7050, Best Val Loss: 0.7751369848847389\n",
      "Epoch [300/10000], Train Loss: 0.1341, Val Loss: 20.6854, Best Val Loss: 0.7751369848847389\n",
      "Epoch [400/10000], Train Loss: 0.0410, Val Loss: 21.0368, Best Val Loss: 0.7751369848847389\n",
      "Epoch [500/10000], Train Loss: 0.0420, Val Loss: 21.0321, Best Val Loss: 0.7751369848847389\n",
      "Epoch [600/10000], Train Loss: 0.1258, Val Loss: 21.0034, Best Val Loss: 0.7751369848847389\n",
      "Epoch [700/10000], Train Loss: 0.3166, Val Loss: 22.5146, Best Val Loss: 0.7751369848847389\n",
      "Epoch [800/10000], Train Loss: 0.0689, Val Loss: 21.8380, Best Val Loss: 0.7751369848847389\n",
      "Epoch [900/10000], Train Loss: 0.1285, Val Loss: 23.2156, Best Val Loss: 0.7751369848847389\n",
      "Epoch [1000/10000], Train Loss: 0.1284, Val Loss: 23.5228, Best Val Loss: 0.7751369848847389\n",
      "\n"
     ]
    }
   ],
   "source": [
    "losses_val = []\n",
    "epochs, MAX_PATIENCE_CNT = 10000, 1000\n",
    "\n",
    "for k in range(len(edgeDatas_train)):\n",
    "    setSeed(2024)\n",
    "    model = MainModel(\n",
    "        nurseModel_config={\n",
    "            'emb_config': {\n",
    "                'n_count': nurseData_number_train.shape[1],\n",
    "                't_count': tokenCount,\n",
    "                'embedded_size': 8\n",
    "            },\n",
    "            'useHAT': True,\n",
    "            'hat_config': nurse_HAT_config,\n",
    "            'useGAT': True,\n",
    "            'gat_config': GAT_config\n",
    "        },\n",
    "        patientModel_config={\n",
    "            'emb_config': {\n",
    "                'n_count': patientData_number_train.shape[1],\n",
    "                't_count': tokenCount,\n",
    "                'embedded_size': 8\n",
    "            },\n",
    "            'useHAT': True,\n",
    "            'hat_config': patient_HAT_config,\n",
    "            'useGAT': True,\n",
    "            'gat_config': GAT_config\n",
    "        },\n",
    "        mlp_config={\n",
    "            'input_features': 96 + 96,\n",
    "            'hidden_features': 32,\n",
    "        }\n",
    "    ).to(device)\n",
    "    optimizer = optim.Adam(model.parameters(), lr=5e-3, weight_decay=5e-4)\n",
    "    criterion = nn.L1Loss()\n",
    "\n",
    "    BEST_VAL_LOSS, PATIENCE_CNT = 5, 0\n",
    "    lossValues_val = []\n",
    "\n",
    "    for epoch in range(1, epochs + 1):\n",
    "        model.train()\n",
    "        outputs_train = model((nurseData_number_train, nurseData_token_train, edgeDatas_train[k][0]),\n",
    "                              (patientData_number_train, patientData_token_train, edgeDatas_train[k][1]), indexData_train)\n",
    "        # loss_train = criterion(outputs_train, scoreData_train.view(-1, 1))\n",
    "        loss_train = lossFunc(outputs_train[0], outputs_train[1], scoreData_train.view(-1, 1))\n",
    "        lossValue_train = loss_train.item()\n",
    "\n",
    "        optimizer.zero_grad()\n",
    "        loss_train.backward()\n",
    "        optimizer.step()\n",
    "\n",
    "        with torch.no_grad():\n",
    "            model.eval()\n",
    "            outputs_val = model((nurseData_number_val, nurseData_token_val, edgeDatas_val[k][0]),\n",
    "                                (patientData_number_val, patientData_token_val, edgeDatas_val[k][1]), indexData_val)\n",
    "            # loss_val = criterion(outputs_val, scoreData_val.view(-1, 1))\n",
    "            loss_val = lossFunc(outputs_val[0], outputs_val[1], scoreData_val.view(-1, 1))\n",
    "            lossValue_val = loss_val.item()\n",
    "\n",
    "            if lossValue_val < BEST_VAL_LOSS:\n",
    "                # torch.save(model.state_dict(), f'outputs/models/bestModel{i + 1}_{time}.pth')\n",
    "                BEST_VAL_LOSS = lossValue_val\n",
    "                PATIENCE_CNT = 0\n",
    "            else:\n",
    "                PATIENCE_CNT += 1\n",
    "\n",
    "        if epoch % 100 == 0:\n",
    "            print(\n",
    "                f'Epoch [{epoch}/{epochs}], Train Loss: {lossValue_train*1000:.4f}, Val Loss: {lossValue_val*1000:.4f}, Best Val Loss: {BEST_VAL_LOSS*1000}')\n",
    "\n",
    "        lossValues_val.append(lossValue_val)\n",
    "\n",
    "        if PATIENCE_CNT >= MAX_PATIENCE_CNT:\n",
    "            break\n",
    "\n",
    "    losses_val.append(lossValues_val)\n",
    "    print()"
   ],
   "metadata": {
    "collapsed": false,
    "ExecuteTime": {
     "end_time": "2024-11-11T08:11:36.576210400Z",
     "start_time": "2024-11-11T08:05:26.146955100Z"
    }
   }
  },
  {
   "cell_type": "code",
   "execution_count": 35,
   "outputs": [],
   "source": [
    "for i in range(len(losses_val)):\n",
    "    losses_val[i] = [num / 100000 for num in losses_val[i]]"
   ],
   "metadata": {
    "collapsed": false,
    "ExecuteTime": {
     "end_time": "2024-11-11T08:19:13.550467600Z",
     "start_time": "2024-11-11T08:19:13.546466400Z"
    }
   }
  },
  {
   "cell_type": "code",
   "execution_count": 38,
   "outputs": [
    {
     "data": {
      "text/plain": "<Figure size 1000x600 with 1 Axes>",
      "image/png": "[encoded data removed]"
     },
     "metadata": {},
     "output_type": "display_data"
    }
   ],
   "source": [
    "# 创建折线图\n",
    "plt.figure(figsize=(10, 6))  # 设置图形大小\n",
    "\n",
    "colors = ['green', 'purple', 'blue', 'orange', 'red']\n",
    "labels = ['0.9', '0.8', '0.7', '0.6', '0.5']\n",
    "\n",
    "for i in range(len(edgeDatas_train)):\n",
    "    # if i == 0:\n",
    "    #     index = 2\n",
    "    # elif i == 1:\n",
    "    #     index = 0\n",
    "    # elif i == 2:\n",
    "    #     index = 3\n",
    "    # elif i == 3:\n",
    "    #     index = 1\n",
    "    # else:\n",
    "    #     index = 4\n",
    "    # plt.plot(losses_val[index][:500], color=colors[i], linestyle='-', label=labels[i])\n",
    "    plt.plot(losses_val[i], color=colors[i], linestyle='-', label=labels[i])\n",
    "\n",
    "plt.title('Val Loss Change with Epoch')  # 设置标题\n",
    "plt.xlabel('Epoch')  # 设置x轴标签\n",
    "plt.ylabel('Loss')  # 设置y轴标签\n",
    "plt.legend()  # 显示图例\n",
    "plt.grid(True)  # 显示网格线\n",
    "\n",
    "\n",
    "plt.savefig(f'k_lab_2.png')\n",
    "plt.show()  # 显示图形"
   ],
   "metadata": {
    "collapsed": false,
    "ExecuteTime": {
     "end_time": "2024-11-11T09:47:19.672241200Z",
     "start_time": "2024-11-11T09:47:19.514772600Z"
    }
   }
  },
  {
   "cell_type": "code",
   "execution_count": 22,
   "outputs": [],
   "source": [],
   "metadata": {
    "collapsed": false,
    "ExecuteTime": {
     "end_time": "2024-11-11T08:11:36.777308800Z",
     "start_time": "2024-11-11T08:11:36.719899400Z"
    }
   }
  }
 ],
 "metadata": {
  "kernelspec": {
   "display_name": "Python 3",
   "language": "python",
   "name": "python3"
  },
  "language_info": {
   "codemirror_mode": {
    "name": "ipython",
    "version": 2
   },
   "file_extension": ".py",
   "mimetype": "text/x-python",
   "name": "python",
   "nbconvert_exporter": "python",
   "pygments_lexer": "ipython2",
   "version": "2.7.6"
  }
 },
 "nbformat": 4,
 "nbformat_minor": 0
}
