{
 "cells": [
  {
   "cell_type": "code",
   "execution_count": 1,
   "metadata": {
    "collapsed": true,
    "ExecuteTime": {
     "end_time": "2024-11-14T08:46:04.250731800Z",
     "start_time": "2024-11-14T08:46:03.661312600Z"
    }
   },
   "outputs": [],
   "source": [
    "import pandas as pd"
   ]
  },
  {
   "cell_type": "code",
   "execution_count": 12,
   "outputs": [],
   "source": [
    "scoreMatrix = [[] for _ in range(200)]\n",
    "with open('labels_200_1000.txt', 'r') as file:\n",
    "    for line in file.readlines():\n",
    "        line = line.replace('\\n', '')\n",
    "        [nurse2Patient, score] = line.split(': ')\n",
    "\n",
    "        [nurse, patient] = nurse2Patient.split('-')\n",
    "        score = float(score)\n",
    "\n",
    "        nurseIndex = int(nurse)\n",
    "        patientIndex = int(patient)\n",
    "\n",
    "        scoreMatrix[nurseIndex].append(score)"
   ],
   "metadata": {
    "collapsed": false,
    "ExecuteTime": {
     "end_time": "2024-11-08T06:08:17.898153900Z",
     "start_time": "2024-11-08T06:08:17.747805800Z"
    }
   }
  },
  {
   "cell_type": "code",
   "execution_count": 13,
   "outputs": [],
   "source": [
    "with open('inductive/train/labels.txt', 'w') as file:\n",
    "    for i in range(160):\n",
    "        for j in range(800):\n",
    "            file.write(f'{i}-{j}: {scoreMatrix[i][j]}\\n')"
   ],
   "metadata": {
    "collapsed": false,
    "ExecuteTime": {
     "end_time": "2024-11-08T06:10:45.891884200Z",
     "start_time": "2024-11-08T06:10:45.785996Z"
    }
   }
  },
  {
   "cell_type": "code",
   "execution_count": 14,
   "outputs": [],
   "source": [
    "with open('inductive/val/labels.txt', 'w') as file:\n",
    "    for i in range(160, 180):\n",
    "        for j in range(800, 900):\n",
    "            file.write(f'{i - 160}-{j - 800}: {scoreMatrix[i][j]}\\n')"
   ],
   "metadata": {
    "collapsed": false,
    "ExecuteTime": {
     "end_time": "2024-11-08T06:13:27.429003400Z",
     "start_time": "2024-11-08T06:13:27.399735200Z"
    }
   }
  },
  {
   "cell_type": "code",
   "execution_count": 15,
   "outputs": [],
   "source": [
    "with open('inductive/test/labels.txt', 'w') as file:\n",
    "    for i in range(180, 200):\n",
    "        for j in range(900, 1000):\n",
    "            file.write(f'{i - 180}-{j - 900}: {scoreMatrix[i][j]}\\n')"
   ],
   "metadata": {
    "collapsed": false,
    "ExecuteTime": {
     "end_time": "2024-11-08T06:14:25.884623400Z",
     "start_time": "2024-11-08T06:14:25.862398200Z"
    }
   }
  },
  {
   "cell_type": "code",
   "execution_count": 17,
   "outputs": [],
   "source": [
    "nurseData = pd.read_csv('nurseData_200.csv')\n",
    "patientData = pd.read_csv('patientData_1000.csv')\n",
    "\n",
    "nurseData[:160].to_csv('inductive/train/nurseData.csv', index=False)\n",
    "nurseData[160:180].to_csv('inductive/val/nurseData.csv', index=False)\n",
    "nurseData[180:].to_csv('inductive/test/nurseData.csv', index=False)\n",
    "\n",
    "patientData[:800].to_csv('inductive/train/patientData.csv', index=False)\n",
    "patientData[800:900].to_csv('inductive/val/patientData.csv', index=False)\n",
    "patientData[900:].to_csv('inductive/test/patientData.csv', index=False)"
   ],
   "metadata": {
    "collapsed": false,
    "ExecuteTime": {
     "end_time": "2024-11-08T06:17:26.660694300Z",
     "start_time": "2024-11-08T06:17:26.632374700Z"
    }
   }
  },
  {
   "cell_type": "code",
   "execution_count": 3,
   "outputs": [
    {
     "name": "stdout",
     "output_type": "stream",
     "text": [
      "20\n",
      "30\n",
      "60\n",
      "106\n",
      "190\n"
     ]
    }
   ],
   "source": [
    "k = 0.9\n",
    "while k >= 0.5:\n",
    "    with open(f'inductive/test/edge_nurse_{round(k, 1)}_dist.txt', 'w') as outputFile:\n",
    "        edgeCount = 0\n",
    "        with open(f'edge/200_1000/edge_nurse_{round(k, 1)}_dist.txt', 'r') as file:\n",
    "            for line in file.readlines()[:-1]:\n",
    "                line = line.replace('\\n', '')\n",
    "                [srcNode, tarNodes] = line.split(': ')\n",
    "\n",
    "                srcNode = int(srcNode)\n",
    "                if 180 <= srcNode < 200:\n",
    "                    tarNodes = [node - 180 for node in map(int, tarNodes.split(', ')) if 180 <= node < 200]\n",
    "                    if len(tarNodes) > 0:\n",
    "                        edgeCount += len(tarNodes)\n",
    "                        edgeInfo = ', '.join(map(str, tarNodes))\n",
    "                        outputFile.write(f'{srcNode - 180}: {edgeInfo}\\n')\n",
    "\n",
    "        print(edgeCount)\n",
    "        outputFile.write(f'edgeCount: {edgeCount}\\n')\n",
    "\n",
    "    k -= 0.1"
   ],
   "metadata": {
    "collapsed": false,
    "ExecuteTime": {
     "end_time": "2024-11-13T09:25:12.481394900Z",
     "start_time": "2024-11-13T09:25:12.459286Z"
    }
   }
  },
  {
   "cell_type": "code",
   "execution_count": 6,
   "outputs": [
    {
     "name": "stdout",
     "output_type": "stream",
     "text": [
      "104\n",
      "252\n",
      "676\n",
      "1830\n",
      "3800\n"
     ]
    }
   ],
   "source": [
    "k = 0.9\n",
    "while k >= 0.5:\n",
    "    with open(f'inductive/test/edge_patient_{round(k, 1)}_dist.txt', 'w') as outputFile:\n",
    "        edgeCount = 0\n",
    "        with open(f'edge/200_1000/edge_patient_{round(k, 1)}_dist.txt', 'r') as file:\n",
    "            for line in file.readlines()[:-1]:\n",
    "                line = line.replace('\\n', '')\n",
    "                [srcNode, tarNodes] = line.split(': ')\n",
    "\n",
    "                srcNode = int(srcNode)\n",
    "                if 900 <= srcNode < 1000:\n",
    "                    tarNodes = [node - 900 for node in map(int, tarNodes.split(', ')) if 900 <= node < 1000]\n",
    "                    if len(tarNodes) > 0:\n",
    "                        edgeCount += len(tarNodes)\n",
    "                        edgeInfo = ', '.join(map(str, tarNodes))\n",
    "                        outputFile.write(f'{srcNode - 900}: {edgeInfo}\\n')\n",
    "\n",
    "        print(edgeCount)\n",
    "        outputFile.write(f'edgeCount: {edgeCount}\\n')\n",
    "\n",
    "    k -= 0.1"
   ],
   "metadata": {
    "collapsed": false,
    "ExecuteTime": {
     "end_time": "2024-11-13T09:29:36.229320600Z",
     "start_time": "2024-11-13T09:29:36.198429100Z"
    }
   }
  },
  {
   "cell_type": "code",
   "execution_count": 5,
   "outputs": [],
   "source": [
    "embedMatrix = [[] for _ in range(200)]\n",
    "with open('embeds_200_1000.txt', 'r') as file:\n",
    "    for line in file.readlines():\n",
    "        line = line.replace('\\n', '')\n",
    "        [pairs, embedInfo] = line.split(': ')\n",
    "\n",
    "        [i, j] = map(int, pairs.split('-'))\n",
    "        embedMatrix[i].append(embedInfo)"
   ],
   "metadata": {
    "collapsed": false,
    "ExecuteTime": {
     "end_time": "2024-11-12T03:04:52.897294800Z",
     "start_time": "2024-11-12T03:04:52.760068700Z"
    }
   }
  },
  {
   "cell_type": "code",
   "execution_count": 8,
   "outputs": [],
   "source": [
    "with open('inductive/test/embeds.txt', 'w') as file:\n",
    "    for i in range(180, 200):\n",
    "        for j in range(900, 1000):\n",
    "            file.write(f'{i-180}-{j-900}: {embedMatrix[i][j]}\\n')"
   ],
   "metadata": {
    "collapsed": false,
    "ExecuteTime": {
     "end_time": "2024-11-12T03:11:21.814416500Z",
     "start_time": "2024-11-12T03:11:21.808238900Z"
    }
   }
  },
  {
   "cell_type": "code",
   "execution_count": 39,
   "outputs": [],
   "source": [
    "m = {}\n",
    "with open('inductive/val/edge_patient_0.9.txt', 'r') as file:\n",
    "    lines = file.readlines()\n",
    "    for line in lines[:-1]:\n",
    "        line = line.replace('\\n', '')\n",
    "        [srcNode, tarNodes] = line.split(': ')\n",
    "\n",
    "        srcNode = int(srcNode)\n",
    "        tarNodes = list(map(int, tarNodes.split(', ')))\n",
    "\n",
    "        m[srcNode] = tarNodes\n",
    "    edgeCount = int(lines[-1].replace('\\n', '').split(': ')[1])"
   ],
   "metadata": {
    "collapsed": false,
    "ExecuteTime": {
     "end_time": "2024-11-12T05:53:26.305180800Z",
     "start_time": "2024-11-12T05:53:26.279328400Z"
    }
   }
  },
  {
   "cell_type": "code",
   "execution_count": 31,
   "outputs": [
    {
     "data": {
      "text/plain": "8"
     },
     "execution_count": 31,
     "metadata": {},
     "output_type": "execute_result"
    }
   ],
   "source": [
    "nurseData = pd.read_csv('inductive/val/nurseData.csv')\n",
    "\n",
    "edgeCount = 0\n",
    "for srcIndex in m.keys():\n",
    "    deleteList = []\n",
    "    for tarIndex in m[srcIndex]:\n",
    "        if nurseData.iloc[tarIndex]['在岗时间'] > nurseData.iloc[srcIndex]['在岗时间']:\n",
    "            deleteList.append(tarIndex)\n",
    "\n",
    "    for i in deleteList:\n",
    "        m[srcIndex].remove(i)\n",
    "\n",
    "    edgeCount += len(m[srcIndex])\n",
    "edgeCount"
   ],
   "metadata": {
    "collapsed": false,
    "ExecuteTime": {
     "end_time": "2024-11-12T05:32:58.986515300Z",
     "start_time": "2024-11-12T05:32:58.958568Z"
    }
   }
  },
  {
   "cell_type": "code",
   "execution_count": 40,
   "outputs": [],
   "source": [
    "with open('inductive/val/edge_patient_0.9_selfLoop.txt', 'w') as file:\n",
    "    for i in range(100):\n",
    "        if i not in m.keys():\n",
    "            file.write(f'{i}: {i}\\n')\n",
    "            edgeCount += 1\n",
    "        else:\n",
    "            tarNodes = ', '.join(map(str, m[i]))\n",
    "            file.write(f'{i}: {tarNodes}\\n')\n",
    "\n",
    "    file.write(f'edgeCount: {edgeCount}\\n')"
   ],
   "metadata": {
    "collapsed": false,
    "ExecuteTime": {
     "end_time": "2024-11-12T05:53:33.929289Z",
     "start_time": "2024-11-12T05:53:33.889157600Z"
    }
   }
  },
  {
   "cell_type": "code",
   "execution_count": 2,
   "outputs": [],
   "source": [
    "nurseData = pd.read_csv('nurseData.csv')[:200]\n",
    "patientData = pd.read_csv('patientData.csv')[:1000]\n",
    "\n",
    "nurseID_list = nurseData['护工ID'].tolist()\n",
    "patientID_list = patientData['患者ID'].tolist()"
   ],
   "metadata": {
    "collapsed": false,
    "ExecuteTime": {
     "end_time": "2024-11-14T08:48:01.236117700Z",
     "start_time": "2024-11-14T08:48:01.209438800Z"
    }
   }
  },
  {
   "cell_type": "code",
   "execution_count": 3,
   "outputs": [],
   "source": [
    "m = {}\n",
    "with open('护工_患者.txt', 'r') as file:\n",
    "    for line in file.readlines():\n",
    "        line = line.replace('\\n', '')\n",
    "        [nurseID, patients] = line.split('->')\n",
    "\n",
    "        nurseID = int(nurseID)\n",
    "        patients = eval(patients)\n",
    "\n",
    "        m[nurseID] = patients"
   ],
   "metadata": {
    "collapsed": false,
    "ExecuteTime": {
     "end_time": "2024-11-14T08:53:05.274485500Z",
     "start_time": "2024-11-14T08:53:05.247418600Z"
    }
   }
  },
  {
   "cell_type": "code",
   "execution_count": 6,
   "outputs": [],
   "source": [
    "with open('n2p.txt', 'w') as file:\n",
    "    for i, nurseID in enumerate(nurseID_list):\n",
    "        tmp = []\n",
    "        for patient in m[nurseID]:\n",
    "            if patient in patientID_list:\n",
    "                tmp.append(patientID_list.index(patient))\n",
    "\n",
    "        if len(tmp) > 0:\n",
    "            adjInfo = ' '.join(map(str, tmp))\n",
    "            file.write(f'{i} {adjInfo}\\n')"
   ],
   "metadata": {
    "collapsed": false,
    "ExecuteTime": {
     "end_time": "2024-11-14T09:05:14.970503700Z",
     "start_time": "2024-11-14T09:05:14.954476500Z"
    }
   }
  },
  {
   "cell_type": "code",
   "execution_count": null,
   "outputs": [],
   "source": [],
   "metadata": {
    "collapsed": false
   }
  }
 ],
 "metadata": {
  "kernelspec": {
   "display_name": "Python 3",
   "language": "python",
   "name": "python3"
  },
  "language_info": {
   "codemirror_mode": {
    "name": "ipython",
    "version": 2
   },
   "file_extension": ".py",
   "mimetype": "text/x-python",
   "name": "python",
   "nbconvert_exporter": "python",
   "pygments_lexer": "ipython2",
   "version": "2.7.6"
  }
 },
 "nbformat": 4,
 "nbformat_minor": 0
}
