{
 "cells": [
  {
   "cell_type": "code",
   "execution_count": 1,
   "metadata": {
    "collapsed": true,
    "ExecuteTime": {
     "end_time": "2024-12-12T16:40:21.096806600Z",
     "start_time": "2024-12-12T16:40:18.643935600Z"
    }
   },
   "outputs": [],
   "source": [
    "import pandas as pd\n",
    "import torch.nn as nn\n",
    "\n",
    "from utils import *\n",
    "from sklearn.metrics import ndcg_score\n",
    "from models.NGCF.NGCF import NGCF\n",
    "from models.MF.MF import MF\n",
    "\n",
    "from matplotlib import pyplot as plt\n",
    "\n",
    "plt.rcParams['font.sans-serif'] = ['SimHei']  #用来正常显示中文标签\n",
    "plt.rcParams['axes.unicode_minus'] = False  #用来正常显示负号"
   ]
  },
  {
   "cell_type": "code",
   "execution_count": 2,
   "outputs": [],
   "source": [
    "device = torch.device('cuda' if torch.cuda.is_available() else 'cpu')"
   ],
   "metadata": {
    "collapsed": false,
    "ExecuteTime": {
     "end_time": "2024-12-12T16:40:26.794966600Z",
     "start_time": "2024-12-12T16:40:26.711344700Z"
    }
   }
  },
  {
   "cell_type": "code",
   "execution_count": 3,
   "outputs": [],
   "source": [
    "columnToken_common = ['性别', '省', '民族', '宗教信仰', '学历', '体型']\n",
    "columnToken_nurse = ['常驻医院', '主要负责病区', '其他负责病区']\n",
    "columnToken_patient = ['过敏史', '是否残疾', '暴露史', '是否吸烟', '是否饮酒', '常饮酒类', '所属医院', '所在病区']\n",
    "\n",
    "columnNumber_common = ['年龄', '身高', '体重', 'BMI指数']\n",
    "columnNumber_nurse = ['普通话程度', '方言程度', '在岗时间', '擅长科室种类', '接单数', '活跃度', '评分']\n",
    "columnNumber_patient = ['烟龄', '平均每日吸烟次数', '平均每日饮酒次数', '锻炼频率', '刷牙频率', '重症等级']\n",
    "\n",
    "nurseColumns = columnNumber_common + columnNumber_nurse + columnToken_common + columnToken_nurse\n",
    "patientColumns = columnNumber_common + columnNumber_patient + columnToken_common + columnToken_patient"
   ],
   "metadata": {
    "collapsed": false,
    "ExecuteTime": {
     "end_time": "2024-12-12T16:40:27.765699800Z",
     "start_time": "2024-12-12T16:40:27.742068400Z"
    }
   }
  },
  {
   "cell_type": "code",
   "execution_count": 4,
   "outputs": [],
   "source": [
    "HAT_config_nurse = {\n",
    "    'num_HAT_layers': 3,\n",
    "    'in_features': [8, 16, 16],\n",
    "    'out_features': [16, 16, 32],\n",
    "    'num_softmax_layers': [5, 3, 1],\n",
    "    'all_dims': [len(nurseColumns), 5, 3],\n",
    "    'softmax_dims': [\n",
    "        [[0, 1, 2, 3, 11, 12, 13, 14, 15, 16], [0, 3, 16], [4, 5], [6, 7, 8, 9, 10, 15], [17, 18, 19]],\n",
    "        [[0], [1, 2, 3], [4]],\n",
    "        [[0, 1, 2]]\n",
    "    ]\n",
    "}\n",
    "HAT_config_patient = {\n",
    "    'num_HAT_layers': 3,\n",
    "    'in_features': [8, 16, 16],\n",
    "    'out_features': [16, 16, 32],\n",
    "    'num_softmax_layers': [5, 3, 1],\n",
    "    'all_dims': [len(patientColumns), 5, 3],\n",
    "    'softmax_dims': [\n",
    "        [[0, 1, 2, 3, 10, 11, 12, 13, 14, 15], [0, 3, 9, 15, 17], [16, 18], [4, 5, 6, 7, 8, 19, 20, 21], [22, 23]],\n",
    "        [[0], [1, 2, 3], [4]],\n",
    "        [[0, 1, 2]]\n",
    "    ]\n",
    "}\n",
    "\n",
    "GAT_config = {\n",
    "    'num_of_layers': 2,\n",
    "    'num_heads_per_layer': [8, 1],\n",
    "    'num_features_per_layer': [96, 8, 8],\n",
    "    'dropout_prob': 0.6,\n",
    "    'bias': True,\n",
    "    'add_skip_connection': False\n",
    "}\n",
    "GAT_config_nurse = {\n",
    "    'num_of_layers': 2,\n",
    "    'num_heads_per_layer': [8, 1],\n",
    "    'num_features_per_layer': [len(nurseColumns) * 8, 8, 8],\n",
    "    'dropout_prob': 0.6,\n",
    "    'bias': True,\n",
    "    'add_skip_connection': False\n",
    "}\n",
    "GAT_config_patient = {\n",
    "    'num_of_layers': 2,\n",
    "    'num_heads_per_layer': [8, 1],\n",
    "    'num_features_per_layer': [len(patientColumns) * 8, 8, 8],\n",
    "    'dropout_prob': 0.6,\n",
    "    'bias': True,\n",
    "    'add_skip_connection': False\n",
    "}\n",
    "\n",
    "GCN_config = {\n",
    "    'input_features': 96,\n",
    "    'hidden_features': 16,\n",
    "    'out_features': 8,\n",
    "    'dropout': 0.5\n",
    "}\n",
    "GCN_config_nurse = {\n",
    "    'input_features': len(nurseColumns) * 8,\n",
    "    'hidden_features': 16,\n",
    "    'out_features': 8,\n",
    "    'dropout': 0.5\n",
    "}\n",
    "GCN_config_patient = {\n",
    "    'input_features': len(patientColumns) * 8,\n",
    "    'hidden_features': 16,\n",
    "    'out_features': 8,\n",
    "    'dropout': 0.5\n",
    "}"
   ],
   "metadata": {
    "collapsed": false,
    "ExecuteTime": {
     "end_time": "2024-12-12T16:40:28.496481600Z",
     "start_time": "2024-12-12T16:40:28.470611400Z"
    }
   }
  },
  {
   "cell_type": "code",
   "execution_count": 5,
   "outputs": [],
   "source": [
    "nurseData = pd.read_csv('data/nurseData_200.csv')\n",
    "patientData = pd.read_csv('data/patientData_1000.csv')\n",
    "\n",
    "nurseData_test = pd.read_csv('data/inductive/test/nurseData.csv')\n",
    "patientData_test = pd.read_csv('data/inductive/test/patientData.csv')\n",
    "\n",
    "tokenCount = getVocabulary('data/token2Id.txt')\n",
    "\n",
    "# 标签数据\n",
    "indexData_test, scoreData_test = getLabels('data/test/testLabels_200_1000_10.txt', device)\n",
    "\n",
    "indexData_test_inductive, scoreData_test_inductive = getLabels('data/inductive/test/labels.txt', device)\n",
    "\n",
    "nurseData_token = getData(nurseData, columnToken_common + columnToken_nurse, True, device)\n",
    "nurseData_number = getData(nurseData, columnNumber_common + columnNumber_nurse, False, device)\n",
    "patientData_token = getData(patientData, columnToken_common + columnToken_patient, True, device)\n",
    "patientData_number = getData(patientData, columnNumber_common + columnNumber_patient, False, device)\n",
    "\n",
    "nurseData_token_test = getData(nurseData_test, columnToken_common + columnToken_nurse, True, device)\n",
    "nurseData_number_test = getData(nurseData_test, columnNumber_common + columnNumber_nurse, False, device)\n",
    "patientData_token_test = getData(patientData_test, columnToken_common + columnToken_patient, True, device)\n",
    "patientData_number_test = getData(patientData_test, columnNumber_common + columnNumber_patient, False, device)\n",
    "\n",
    "# 获取边数据\n",
    "edgeData_nurse_test = getEdges('data/inductive/test/edge_nurse_0.9_dist.txt', device)\n",
    "edgeData_patient_test = getEdges('data/inductive/test/edge_patient_0.9_dist.txt', device)\n",
    "\n",
    "# 使用曼哈顿距离+阈值取0.9\n",
    "adjData_nurse = getAdj('data/edge/200_1000/edge_nurse_0.9_dist.txt', nurseData.shape[0], device)\n",
    "adjData_patient = getAdj('data/edge/200_1000/edge_patient_0.9_dist.txt', patientData.shape[0], device)\n",
    "\n",
    "# 使用余弦相似度+阈值取0.9\n",
    "adjData_nurse_cosine = getAdj('data/edge/200_1000/edge_nurse_0.9.txt', nurseData.shape[0], device)\n",
    "adjData_patient_cosine = getAdj('data/edge/200_1000/edge_patient_0.9.txt', patientData.shape[0], device)\n",
    "\n",
    "# 引入传播系数矩阵\n",
    "adjData_nurse_dist = getAdj('data/edge/200_1000/edge_nurse_0.9_dist.txt', nurseData.shape[0], device,\n",
    "                            basedDist=True, filePath_dist='data/dist_matrix_nurse.txt')\n",
    "adjData_patient_dist = getAdj('data/edge/200_1000/edge_patient_0.9_dist.txt', patientData.shape[0], device,\n",
    "                              basedDist=True, filePath_dist='data/dist_matrix_patient.txt')\n",
    "\n",
    "adjData = getAdj_NGCF('data/n2p.txt', device)"
   ],
   "metadata": {
    "collapsed": false,
    "ExecuteTime": {
     "end_time": "2024-12-12T16:40:31.820181300Z",
     "start_time": "2024-12-12T16:40:29.270032400Z"
    }
   }
  },
  {
   "cell_type": "code",
   "execution_count": 6,
   "outputs": [],
   "source": [
    "def evaluate(y_pred, y_true):\n",
    "    # MAE\n",
    "    criterion = nn.L1Loss()\n",
    "    MAE_value = criterion(y_pred, y_true)\n",
    "\n",
    "    # 决定系数\n",
    "    y_mean = torch.mean(y_true)\n",
    "    ss_tot = torch.sum((y_true - y_mean) ** 2)\n",
    "    ss_res = torch.sum((y_true - y_pred) ** 2)\n",
    "    R2_value = 1 - (ss_res / ss_tot)\n",
    "\n",
    "    return round(MAE_value.item(), 4), round(R2_value.item(), 4)"
   ],
   "metadata": {
    "collapsed": false,
    "ExecuteTime": {
     "end_time": "2024-12-12T16:40:32.527825100Z",
     "start_time": "2024-12-12T16:40:32.502422500Z"
    }
   }
  },
  {
   "cell_type": "code",
   "execution_count": 7,
   "outputs": [],
   "source": [
    "def getM(filePath, y_pred):\n",
    "    m = {}\n",
    "    with open(filePath, 'r') as file:\n",
    "        for j, line in enumerate(file.readlines()):\n",
    "            line = line.replace('\\n', '')\n",
    "\n",
    "            [nurse, _] = line.split(': ')[0].split('-')\n",
    "            scores = float(line.split(': ')[1])\n",
    "\n",
    "            if nurse not in m.keys():\n",
    "                m[nurse] = [[scores], [y_pred[j].item()]]\n",
    "            else:\n",
    "                m[nurse][0].append(scores)\n",
    "                m[nurse][1].append(y_pred[j].item())\n",
    "\n",
    "    return m"
   ],
   "metadata": {
    "collapsed": false,
    "ExecuteTime": {
     "end_time": "2024-12-12T16:40:33.144037500Z",
     "start_time": "2024-12-12T16:40:33.138990100Z"
    }
   }
  },
  {
   "cell_type": "code",
   "execution_count": 8,
   "outputs": [],
   "source": [
    "def getHR(m, k):\n",
    "    HRs_k = []\n",
    "    for key in m.keys():\n",
    "        y_true, y_pred = m[key][0], m[key][1]\n",
    "\n",
    "        k = min(k, len(y_true))\n",
    "        topK_true = [i for i, _ in sorted(enumerate(y_true), key=lambda x: x[1], reverse=True)[:k]]\n",
    "        topK_pred = [i for i, _ in sorted(enumerate(y_pred), key=lambda x: x[1], reverse=True)[:k]]\n",
    "\n",
    "        hit_count = 0\n",
    "        for item in topK_pred:\n",
    "            if item in topK_true:\n",
    "                hit_count += 1\n",
    "        hit_ratio = hit_count / k\n",
    "\n",
    "        HRs_k.append(hit_ratio)\n",
    "\n",
    "    return round(sum(HRs_k) / len(HRs_k), 4)"
   ],
   "metadata": {
    "collapsed": false,
    "ExecuteTime": {
     "end_time": "2024-12-12T16:40:33.769320500Z",
     "start_time": "2024-12-12T16:40:33.763679300Z"
    }
   }
  },
  {
   "cell_type": "code",
   "execution_count": 1626,
   "outputs": [
    {
     "name": "stdout",
     "output_type": "stream",
     "text": [
      "MF\tMAE=0.12\tR2=0.3353\tnDCG=0.7247\n",
      "HR@1=0.04\n",
      "HR@5=0.225\n",
      "HR@10=0.361\n",
      "HR@50=0.8946\n"
     ]
    }
   ],
   "source": [
    "model = MF(n_users=200, n_items=1000, embedding_dim=8, mlp_config={\n",
    "    'input_features': 8 + 8,\n",
    "    'hidden_features': 32\n",
    "}).to(device)\n",
    "model.load_state_dict(torch.load('history/bestModel_MF_2024-11-14_20-45-40_0.1200.pth'))\n",
    "\n",
    "preds = model(indexData_test).squeeze()\n",
    "MAE, R2 = evaluate(preds, scoreData_test)\n",
    "\n",
    "m = getM('data/test/testLabels_200_1000_10.txt', preds)\n",
    "nDCGs = [ndcg_score([m[k][0]], [m[k][1]], k=10) for k in m.keys()]\n",
    "nDCG = round(sum(nDCGs) / len(nDCGs), 4)\n",
    "\n",
    "print(f'MF\\tMAE={MAE}\\tR2={R2}\\tnDCG={nDCG}')\n",
    "\n",
    "kList = [1, 5, 10, 50]\n",
    "for k in kList:\n",
    "    print(f'HR@{k}={getHR(m, k)}')"
   ],
   "metadata": {
    "collapsed": false,
    "ExecuteTime": {
     "end_time": "2024-11-21T11:29:22.500572Z",
     "start_time": "2024-11-21T11:29:22.202521200Z"
    }
   }
  },
  {
   "cell_type": "code",
   "execution_count": 1627,
   "outputs": [
    {
     "name": "stdout",
     "output_type": "stream",
     "text": [
      "NGCF\tMAE=0.1148\tR2=0.3397\tnDCG=0.7654\n",
      "HR@1=0.075\n",
      "HR@5=0.278\n",
      "HR@10=0.4395\n",
      "HR@50=0.889\n"
     ]
    }
   ],
   "source": [
    "model = NGCF(n_users=200, n_items=1000, embedding_dim=8, weight_size=[64], dropout_list=[0.1], mlp_config={\n",
    "    'input_features': 72 + 72,\n",
    "    'hidden_features': 32\n",
    "}).to(device)\n",
    "model.load_state_dict(torch.load('history/bestModel_NGCF_2024-11-14_20-09-30_0.1147.pth'))\n",
    "\n",
    "preds = model(adjData, indexData_test).squeeze()\n",
    "MAE, R2 = evaluate(preds, scoreData_test)\n",
    "\n",
    "\n",
    "m = getM('data/test/testLabels_200_1000_10.txt', preds)\n",
    "nDCGs = [ndcg_score([m[k][0]], [m[k][1]], k=10) for k in m.keys()]\n",
    "nDCG = round(sum(nDCGs) / len(nDCGs), 4)\n",
    "\n",
    "print(f'NGCF\\tMAE={MAE}\\tR2={R2}\\tnDCG={nDCG}')\n",
    "\n",
    "kList = [1, 5, 10, 50]\n",
    "for k in kList:\n",
    "    print(f'HR@{k}={getHR(m, k)}')"
   ],
   "metadata": {
    "collapsed": false,
    "ExecuteTime": {
     "end_time": "2024-11-21T11:29:22.817062900Z",
     "start_time": "2024-11-21T11:29:22.500572Z"
    }
   }
  },
  {
   "cell_type": "code",
   "execution_count": 21,
   "outputs": [
    {
     "name": "stdout",
     "output_type": "stream",
     "text": [
      "GCL\tMAE=0.0994\tR2=0.6183\tnDCG=0.889\n",
      "HR@1=0.145\n",
      "HR@5=0.492\n",
      "HR@10=0.674\n",
      "HR@50=0.8921\n"
     ]
    }
   ],
   "source": [
    "onlyGCN = getModelConfig(n_count_nurse=nurseData_number.shape[1], n_count_patient=patientData_number.shape[1],\n",
    "                         t_count=tokenCount, embedded_size=8,\n",
    "                         useHAT=False, hat_config_nurse=None, hat_config_patient=None,\n",
    "                         useGAT=False, gat_config_nurse=None, gat_config_patient=None,\n",
    "                         useGCN=True, gcn_config_nurse=GCN_config_nurse, gcn_config_patient=GCN_config_patient)\n",
    "setSeed(1950)\n",
    "model = getModel(onlyGCN[0], onlyGCN[1], isOnlyHAT=False).to(device)\n",
    "model.load_state_dict(torch.load('history/bestModel_GCN(dist)_2024-11-13_21-46-59_0.0993.pth'))\n",
    "\n",
    "preds = model((nurseData_number, nurseData_token, adjData_nurse_dist),\n",
    "              (patientData_number, patientData_token, adjData_patient_dist), indexData_test).squeeze()\n",
    "MAE, R2 = evaluate(preds, scoreData_test)\n",
    "\n",
    "\n",
    "m = getM('data/test/testLabels_200_1000_10.txt', preds)\n",
    "nDCGs = [ndcg_score([m[k][0]], [m[k][1]], k=10) for k in m.keys()]\n",
    "nDCG = round(sum(nDCGs) / len(nDCGs), 4)\n",
    "\n",
    "print(f'GCL\\tMAE={MAE}\\tR2={R2}\\tnDCG={nDCG}')\n",
    "\n",
    "kList = [1, 5, 10, 50]\n",
    "for k in kList:\n",
    "    print(f'HR@{k}={getHR(m, k)}')"
   ],
   "metadata": {
    "collapsed": false,
    "ExecuteTime": {
     "end_time": "2024-12-12T16:50:31.834428500Z",
     "start_time": "2024-12-12T16:50:31.575347300Z"
    }
   }
  },
  {
   "cell_type": "code",
   "execution_count": 1629,
   "outputs": [
    {
     "name": "stdout",
     "output_type": "stream",
     "text": [
      "GCN\tMAE=0.1091\tR2=0.5685\tnDCG=0.8788\n",
      "HR@1=0.115\n",
      "HR@5=0.459\n",
      "HR@10=0.6555\n",
      "HR@50=0.8754\n"
     ]
    }
   ],
   "source": [
    "onlyGCN = getModelConfig(n_count_nurse=nurseData_number.shape[1], n_count_patient=patientData_number.shape[1],\n",
    "                         t_count=tokenCount, embedded_size=8,\n",
    "                         useHAT=False, hat_config_nurse=None, hat_config_patient=None,\n",
    "                         useGAT=False, gat_config_nurse=None, gat_config_patient=None,\n",
    "                         useGCN=True, gcn_config_nurse=GCN_config_nurse, gcn_config_patient=GCN_config_patient)\n",
    "setSeed(2083)\n",
    "model = getModel(onlyGCN[0], onlyGCN[1], isOnlyHAT=False).to(device)\n",
    "model.load_state_dict(torch.load('history/2024-11-13_17-55-28/bestModel_GCN_2024-11-13_17-55-28_0.1073.pth'))\n",
    "\n",
    "preds = model((nurseData_number, nurseData_token, adjData_nurse),\n",
    "              (patientData_number, patientData_token, adjData_patient), indexData_test).squeeze()\n",
    "MAE, R2 = evaluate(preds, scoreData_test)\n",
    "\n",
    "\n",
    "m = getM('data/test/testLabels_200_1000_10.txt', preds)\n",
    "nDCGs = [ndcg_score([m[k][0]], [m[k][1]], k=10) for k in m.keys()]\n",
    "nDCG = round(sum(nDCGs) / len(nDCGs), 4)\n",
    "\n",
    "print(f'GCN\\tMAE={MAE}\\tR2={R2}\\tnDCG={nDCG}')\n",
    "\n",
    "kList = [1, 5, 10, 50]\n",
    "for k in kList:\n",
    "    print(f'HR@{k}={getHR(m, k)}')"
   ],
   "metadata": {
    "collapsed": false,
    "ExecuteTime": {
     "end_time": "2024-11-21T11:29:23.848603500Z",
     "start_time": "2024-11-21T11:29:23.564384500Z"
    }
   }
  },
  {
   "cell_type": "code",
   "execution_count": 1630,
   "outputs": [
    {
     "name": "stdout",
     "output_type": "stream",
     "text": [
      "GAT\tMAE=0.1743\tR2=0.0091\tnDCG=0.5745\n",
      "HR@1=0.0\n",
      "HR@5=0.11\n",
      "HR@10=0.17\n",
      "HR@50=0.585\n"
     ]
    }
   ],
   "source": [
    "onlyGAT = getModelConfig(n_count_nurse=nurseData_number_test.shape[1],\n",
    "                         n_count_patient=patientData_number_test.shape[1],\n",
    "                         t_count=tokenCount, embedded_size=8,\n",
    "                         useHAT=False, hat_config_nurse=None, hat_config_patient=None,\n",
    "                         useGAT=True, gat_config_nurse=GAT_config_nurse, gat_config_patient=GAT_config_patient,\n",
    "                         useGCN=False, gcn_config_nurse=None, gcn_config_patient=None)\n",
    "setSeed(2082)\n",
    "model = getModel(onlyGAT[0], onlyGAT[1], isOnlyHAT=False).to(device)\n",
    "model.load_state_dict(torch.load('history/2024-11-12_20-40-15/bestModel_GAT_2024-11-12_20-40-15_0.1778.pth'))\n",
    "\n",
    "preds = model((nurseData_number_test, nurseData_token_test, edgeData_nurse_test),\n",
    "              (patientData_number_test, patientData_token_test, edgeData_patient_test), indexData_test_inductive).squeeze()\n",
    "MAE, R2 = evaluate(preds, scoreData_test_inductive)\n",
    "\n",
    "m = getM('data/inductive/test/labels.txt', preds)\n",
    "nDCGs = [ndcg_score([m[k][0]], [m[k][1]], k=10) for k in m.keys()]\n",
    "nDCG = round(sum(nDCGs) / len(nDCGs), 4)\n",
    "\n",
    "print(f'GAT\\tMAE={MAE}\\tR2={R2}\\tnDCG={nDCG}')\n",
    "\n",
    "kList = [1, 5, 10, 50]\n",
    "for k in kList:\n",
    "    print(f'HR@{k}={getHR(m, k)}')"
   ],
   "metadata": {
    "collapsed": false,
    "ExecuteTime": {
     "end_time": "2024-11-21T11:29:23.942923500Z",
     "start_time": "2024-11-21T11:29:23.848603500Z"
    }
   }
  },
  {
   "cell_type": "code",
   "execution_count": 1631,
   "outputs": [
    {
     "name": "stdout",
     "output_type": "stream",
     "text": [
      "GCN(cosine)\tMAE=0.1226\tR2=0.4553\tnDCG=0.8347\n",
      "HR@1=0.105\n",
      "HR@5=0.363\n",
      "HR@10=0.5965\n",
      "HR@50=0.8649\n"
     ]
    }
   ],
   "source": [
    "onlyGCN = getModelConfig(n_count_nurse=nurseData_number.shape[1], n_count_patient=patientData_number.shape[1],\n",
    "                         t_count=tokenCount, embedded_size=8,\n",
    "                         useHAT=False, hat_config_nurse=None, hat_config_patient=None,\n",
    "                         useGAT=False, gat_config_nurse=None, gat_config_patient=None,\n",
    "                         useGCN=True, gcn_config_nurse=GCN_config_nurse, gcn_config_patient=GCN_config_patient)\n",
    "setSeed(2024)\n",
    "model = getModel(onlyGCN[0], onlyGCN[1], isOnlyHAT=False).to(device)\n",
    "model.load_state_dict(torch.load('history/2024-11-12_20-40-15/bestModel_GCN_2024-11-12_20-40-15_0.1346.pth'))\n",
    "\n",
    "preds = model((nurseData_number, nurseData_token, adjData_nurse_cosine),\n",
    "              (patientData_number, patientData_token, adjData_patient_cosine), indexData_test).squeeze()\n",
    "MAE, R2 = evaluate(preds, scoreData_test)\n",
    "\n",
    "\n",
    "m = getM('data/test/testLabels_200_1000_10.txt', preds)\n",
    "nDCGs = [ndcg_score([m[k][0]], [m[k][1]], k=10) for k in m.keys()]\n",
    "nDCG = round(sum(nDCGs) / len(nDCGs), 4)\n",
    "\n",
    "print(f'GCN(cosine)\\tMAE={MAE}\\tR2={R2}\\tnDCG={nDCG}')\n",
    "\n",
    "kList = [1, 5, 10, 50]\n",
    "for k in kList:\n",
    "    print(f'HR@{k}={getHR(m, k)}')"
   ],
   "metadata": {
    "collapsed": false,
    "ExecuteTime": {
     "end_time": "2024-11-21T11:29:24.290180900Z",
     "start_time": "2024-11-21T11:29:23.947158Z"
    }
   }
  },
  {
   "cell_type": "code",
   "execution_count": 15,
   "outputs": [
    {
     "name": "stdout",
     "output_type": "stream",
     "text": [
      "HAGC-Rec(dist)\tMAE=0.0603\tR2=0.866\tnDCG=0.9699\n",
      "HR@1=0.345\n",
      "HR@5=0.7\n",
      "HR@10=0.8105\n",
      "HR@50=0.928\n"
     ]
    }
   ],
   "source": [
    "onlyHAT = getModelConfig(n_count_nurse=nurseData_number.shape[1], n_count_patient=patientData_number.shape[1],\n",
    "                         t_count=tokenCount, embedded_size=8,\n",
    "                         useHAT=True, hat_config_nurse=HAT_config_nurse, hat_config_patient=HAT_config_patient,\n",
    "                         useGAT=False, gat_config_nurse=None, gat_config_patient=None,\n",
    "                         useGCN=False, gcn_config_nurse=None, gcn_config_patient=None)\n",
    "setSeed(2024)\n",
    "model = getModel(onlyHAT[0], onlyHAT[1], isOnlyHAT=True).to(device)\n",
    "model.load_state_dict(torch.load('history/2024-11-13_17-55-28/bestModel_HAT_2024-11-13_17-55-28_0.0603.pth'))\n",
    "\n",
    "preds = model((nurseData_number, nurseData_token), (patientData_number, patientData_token), indexData_test).squeeze()\n",
    "MAE, R2 = evaluate(preds, scoreData_test)\n",
    "\n",
    "m = getM('data/test/testLabels_200_1000_10.txt', preds)\n",
    "nDCGs = [ndcg_score([m[k][0]], [m[k][1]], k=10) for k in m.keys()]\n",
    "nDCG = round(sum(nDCGs) / len(nDCGs), 4)\n",
    "\n",
    "print(f'HAGC-Rec(dist)\\tMAE={MAE}\\tR2={R2}\\tnDCG={nDCG}')\n",
    "\n",
    "kList = [1, 5, 10, 50]\n",
    "for k in kList:\n",
    "    print(f'HR@{k}={getHR(m, k)}')"
   ],
   "metadata": {
    "collapsed": false,
    "ExecuteTime": {
     "end_time": "2024-12-12T16:48:40.585629300Z",
     "start_time": "2024-12-12T16:48:40.295426600Z"
    }
   }
  },
  {
   "cell_type": "code",
   "execution_count": 18,
   "outputs": [
    {
     "name": "stdout",
     "output_type": "stream",
     "text": [
      "HAGC-Rec\tMAE=0.0736\tR2=0.8068\tnDCG=0.9578\n",
      "HR@1=0.255\n",
      "HR@5=0.662\n",
      "HR@10=0.79\n",
      "HR@50=0.9146\n"
     ]
    }
   ],
   "source": [
    "onlyHAT = getModelConfig(n_count_nurse=nurseData_number.shape[1], n_count_patient=patientData_number.shape[1],\n",
    "                         t_count=tokenCount, embedded_size=8,\n",
    "                         useHAT=True, hat_config_nurse=HAT_config_nurse, hat_config_patient=HAT_config_patient,\n",
    "                         useGAT=False, gat_config_nurse=None, gat_config_patient=None,\n",
    "                         useGCN=False, gcn_config_nurse=None, gcn_config_patient=None)\n",
    "setSeed(2024)\n",
    "model = getModel(onlyHAT[0], onlyHAT[1], isOnlyHAT=True).to(device)\n",
    "model.load_state_dict(torch.load('history/2024-11-11_23-29-37/bestModel_HGA-Rec_2024-11-11_23-29-37_0.0736.pth'))\n",
    "\n",
    "preds = model((nurseData_number, nurseData_token), (patientData_number, patientData_token), indexData_test).squeeze()\n",
    "MAE, R2 = evaluate(preds, scoreData_test)\n",
    "\n",
    "m = getM('data/test/testLabels_200_1000_10.txt', preds)\n",
    "nDCGs = [ndcg_score([m[k][0]], [m[k][1]], k=10) for k in m.keys()]\n",
    "nDCG = round(sum(nDCGs) / len(nDCGs), 4)\n",
    "\n",
    "print(f'HAGC-Rec\\tMAE={MAE}\\tR2={R2}\\tnDCG={nDCG}')\n",
    "\n",
    "kList = [1, 5, 10, 50]\n",
    "for k in kList:\n",
    "    print(f'HR@{k}={getHR(m, k)}')"
   ],
   "metadata": {
    "collapsed": false,
    "ExecuteTime": {
     "end_time": "2024-12-12T16:49:09.681209Z",
     "start_time": "2024-12-12T16:49:09.393729300Z"
    }
   }
  },
  {
   "cell_type": "code",
   "execution_count": 1636,
   "outputs": [
    {
     "name": "stdout",
     "output_type": "stream",
     "text": [
      "HAL\tMAE=0.1022\tR2=0.6104\tnDCG=0.8852\n",
      "HR@1=0.15\n",
      "HR@5=0.486\n",
      "HR@10=0.673\n",
      "HR@50=0.8892\n"
     ]
    }
   ],
   "source": [
    "# HGCRec = getModelConfig(n_count_nurse=nurseData_number.shape[1], n_count_patient=patientData_number.shape[1],\n",
    "#                         t_count=tokenCount, embedded_size=8,\n",
    "#                         useHAT=True, hat_config_nurse=HAT_config_nurse, hat_config_patient=HAT_config_patient,\n",
    "#                         useGAT=False, gat_config_nurse=None, gat_config_patient=None,\n",
    "#                         useGCN=True, gcn_config_nurse=GCN_config, gcn_config_patient=GCN_config)\n",
    "# setSeed(226)\n",
    "# model = getModel(HGCRec[0], HGCRec[1], isOnlyHAT=False).to(device)\n",
    "# model.load_state_dict(torch.load('history/2024-11-13_17-55-28/bestModel_HGC-Rec_2024-11-13_17-55-28_0.1153.pth'))\n",
    "#\n",
    "# preds = model((nurseData_number, nurseData_token, adjData_nurse_dist),\n",
    "#               (patientData_number, patientData_token, adjData_patient_dist), indexData_test).squeeze()\n",
    "# MAE, R2 = evaluate(preds, scoreData_test)\n",
    "#\n",
    "#\n",
    "# m = getM('data/test/testLabels_200_1000_10.txt', preds)\n",
    "# nDCGs = [ndcg_score([m[k][0]], [m[k][1]], k=10) for k in m.keys()]\n",
    "# nDCG = round(sum(nDCGs) / len(nDCGs), 4)\n",
    "#\n",
    "# print(f'HAL\\tMAE={MAE}\\tR2={R2}\\tnDCG={nDCG}')\n",
    "#\n",
    "# kList = [1, 5, 10, 50]\n",
    "# for k in kList:\n",
    "#     print(f'HR@{k}={getHR(m, k)}')\n",
    "\n",
    "onlyGCN = getModelConfig(n_count_nurse=nurseData_number.shape[1], n_count_patient=patientData_number.shape[1],\n",
    "                         t_count=tokenCount, embedded_size=8,\n",
    "                         useHAT=False, hat_config_nurse=None, hat_config_patient=None,\n",
    "                         useGAT=False, gat_config_nurse=None, gat_config_patient=None,\n",
    "                         useGCN=True, gcn_config_nurse=GCN_config_nurse, gcn_config_patient=GCN_config_patient)\n",
    "setSeed(2024)\n",
    "model = getModel(onlyGCN[0], onlyGCN[1], isOnlyHAT=False).to(device)\n",
    "model.load_state_dict(torch.load('history/bestModel_GCN_2024-11-13_21-50-15_0.1040.pth'))\n",
    "\n",
    "preds = model((nurseData_number, nurseData_token, adjData_nurse),\n",
    "              (patientData_number, patientData_token, adjData_patient), indexData_test).squeeze()\n",
    "MAE, R2 = evaluate(preds, scoreData_test)\n",
    "\n",
    "\n",
    "m = getM('data/test/testLabels_200_1000_10.txt', preds)\n",
    "nDCGs = [ndcg_score([m[k][0]], [m[k][1]], k=10) for k in m.keys()]\n",
    "nDCG = round(sum(nDCGs) / len(nDCGs), 4)\n",
    "\n",
    "print(f'HAL\\tMAE={MAE}\\tR2={R2}\\tnDCG={nDCG}')\n",
    "\n",
    "kList = [1, 5, 10, 50]\n",
    "for k in kList:\n",
    "    print(f'HR@{k}={getHR(m, k)}')"
   ],
   "metadata": {
    "collapsed": false,
    "ExecuteTime": {
     "end_time": "2024-11-21T12:20:09.964197900Z",
     "start_time": "2024-11-21T12:20:09.626177400Z"
    }
   }
  },
  {
   "cell_type": "code",
   "execution_count": 2,
   "outputs": [],
   "source": [
    "import numpy as np\n",
    "\n",
    "attention_20_0 = np.load('20_0_nurse.npy')\n",
    "attention_max_list, attention_min_list = [], []\n",
    "for i in range(attention_20_0.shape[0]):\n",
    "    attention_max_list.append(np.max(attention_20_0[i]))\n",
    "    attention_min_list.append(np.min(attention_20_0[i]))\n",
    "\n",
    "for i in range(attention_20_0.shape[0]):\n",
    "    for j in range(attention_20_0.shape[1]):\n",
    "        attention_20_0[i][j] = (attention_20_0[i][j] - attention_min_list[i]) / (attention_max_list[i] - attention_min_list[i])"
   ],
   "metadata": {
    "collapsed": false,
    "ExecuteTime": {
     "end_time": "2024-11-22T02:01:41.860377200Z",
     "start_time": "2024-11-22T02:01:41.852369100Z"
    }
   }
  },
  {
   "cell_type": "code",
   "execution_count": 15,
   "outputs": [
    {
     "data": {
      "text/plain": "<Figure size 1500x800 with 1 Axes>",
      "image/png": "[encoded data removed]"
     },
     "metadata": {},
     "output_type": "display_data"
    }
   ],
   "source": [
    "plt.figure(figsize=(15, 8))\n",
    "plt.imshow(attention_20_0[list(range(200)), :].T, cmap=plt.cm.coolwarm, interpolation='nearest', aspect=2)\n",
    "# plt.imshow(attention_20_0, cmap=plt.cm.coolwarm, interpolation='nearest')\n",
    "plt.xlabel('实体维度')\n",
    "plt.ylabel('特征维度')\n",
    "# plt.title('Attention Heatmap')\n",
    "# plt.colorbar()\n",
    "plt.savefig('注意力热力图.png')\n",
    "plt.show()"
   ],
   "metadata": {
    "collapsed": false,
    "ExecuteTime": {
     "end_time": "2024-11-22T06:38:28.928247900Z",
     "start_time": "2024-11-22T06:38:28.703389100Z"
    }
   }
  },
  {
   "cell_type": "code",
   "execution_count": 65,
   "outputs": [
    {
     "data": {
      "text/plain": "array([[0.11234961, 0.9984667 , 0.10732868, ..., 0.        , 0.18172006,\n        0.16383292],\n       [0.14442581, 0.        , 0.04505529, ..., 0.01931962, 0.12254231,\n        0.15867007],\n       [0.0581497 , 0.06474119, 1.        , ..., 0.0238904 , 0.02969405,\n        0.05967012],\n       ...,\n       [0.6989359 , 0.48369065, 1.        , ..., 0.04018361, 0.04994524,\n        0.10036416],\n       [0.09136105, 1.        , 0.58074427, ..., 0.0277687 , 0.03451426,\n        0.06935637],\n       [1.        , 0.        , 0.11184496, ..., 0.06569493, 0.12107868,\n        0.14046253]], dtype=float32)"
     },
     "execution_count": 65,
     "metadata": {},
     "output_type": "execute_result"
    }
   ],
   "source": [
    "attention_24_0 = np.load('24_0_patient.npy')\n",
    "attention_max_list, attention_min_list = [], []\n",
    "for i in range(attention_24_0.shape[0]):\n",
    "    attention_max_list.append(np.max(attention_24_0[i]))\n",
    "    attention_min_list.append(np.min(attention_24_0[i]))\n",
    "\n",
    "for i in range(attention_24_0.shape[0]):\n",
    "    for j in range(attention_24_0.shape[1]):\n",
    "        attention_24_0[i][j] = (attention_24_0[i][j] - attention_min_list[i]) / (attention_max_list[i] - attention_min_list[i])"
   ],
   "metadata": {
    "collapsed": false,
    "ExecuteTime": {
     "end_time": "2024-11-21T15:25:25.783502100Z",
     "start_time": "2024-11-21T15:25:25.764467800Z"
    }
   }
  },
  {
   "cell_type": "code",
   "execution_count": 86,
   "outputs": [
    {
     "data": {
      "text/plain": "<Figure size 1500x600 with 1 Axes>",
      "image/png": "[encoded data removed]"
     },
     "metadata": {},
     "output_type": "display_data"
    }
   ],
   "source": [
    "plt.figure(figsize=(15, 6))\n",
    "plt.imshow(attention_24_0[list(range(200)), :].T, cmap=plt.cm.coolwarm, interpolation='nearest')\n",
    "plt.xlabel('Input sequence')\n",
    "plt.ylabel('Output sequence')\n",
    "plt.title('Attention Heatmap')\n",
    "# plt.colorbar()\n",
    "plt.show()"
   ],
   "metadata": {
    "collapsed": false,
    "ExecuteTime": {
     "end_time": "2024-11-21T15:34:44.373231700Z",
     "start_time": "2024-11-21T15:34:44.307978Z"
    }
   }
  },
  {
   "cell_type": "code",
   "execution_count": null,
   "outputs": [],
   "source": [],
   "metadata": {
    "collapsed": false
   }
  }
 ],
 "metadata": {
  "kernelspec": {
   "display_name": "Python 3",
   "language": "python",
   "name": "python3"
  },
  "language_info": {
   "codemirror_mode": {
    "name": "ipython",
    "version": 2
   },
   "file_extension": ".py",
   "mimetype": "text/x-python",
   "name": "python",
   "nbconvert_exporter": "python",
   "pygments_lexer": "ipython2",
   "version": "2.7.6"
  }
 },
 "nbformat": 4,
 "nbformat_minor": 0
}
